{
  "nbformat": 4,
  "nbformat_minor": 0,
  "metadata": {
    "colab": {
      "provenance": [],
      "authorship_tag": "ABX9TyPF1KdI+LsBwYUJgLa5VQvT",
      "include_colab_link": true
    },
    "kernelspec": {
      "name": "python3",
      "display_name": "Python 3"
    },
    "language_info": {
      "name": "python"
    }
  },
  "cells": [
    {
      "cell_type": "markdown",
      "metadata": {
        "id": "view-in-github",
        "colab_type": "text"
      },
      "source": [
        "<a href=\"https://colab.research.google.com/github/frypan05/predictive/blob/main/Untitled1.ipynb\" target=\"_parent\"><img src=\"https://colab.research.google.com/assets/colab-badge.svg\" alt=\"Open In Colab\"/></a>"
      ]
    },
    {
      "cell_type": "code",
      "execution_count": 1,
      "metadata": {
        "colab": {
          "base_uri": "https://localhost:8080/"
        },
        "id": "T0CDsL-v2cgz",
        "outputId": "aae39423-1b82-49e2-a0f1-b094e2284958"
      },
      "outputs": [
        {
          "output_type": "stream",
          "name": "stdout",
          "text": [
            "<class 'pandas.core.frame.DataFrame'>\n",
            "RangeIndex: 14838 entries, 0 to 14837\n",
            "Data columns (total 11 columns):\n",
            " #   Column              Non-Null Count  Dtype \n",
            "---  ------              --------------  ----- \n",
            " 0   work_year           14838 non-null  int64 \n",
            " 1   experience_level    14838 non-null  object\n",
            " 2   employment_type     14838 non-null  object\n",
            " 3   job_title           14838 non-null  object\n",
            " 4   salary              14838 non-null  int64 \n",
            " 5   salary_currency     14838 non-null  object\n",
            " 6   salary_in_usd       14838 non-null  int64 \n",
            " 7   employee_residence  14838 non-null  object\n",
            " 8   remote_ratio        14838 non-null  int64 \n",
            " 9   company_location    14838 non-null  object\n",
            " 10  company_size        14838 non-null  object\n",
            "dtypes: int64(4), object(7)\n",
            "memory usage: 1.2+ MB\n",
            "{'Linear Regression-(AIC,BIC)': (372698.76572178793, 372713.9756152614)}\n"
          ]
        }
      ],
      "source": [
        "import pandas as pd\n",
        "\n",
        "# Load the dataset\n",
        "file_path = '/bin/DataScience_salaries_2024.csv'\n",
        "data = pd.read_csv(file_path)\n",
        "\n",
        "# Display basic information and first few rows of the dataset\n",
        "data_info = data.info()\n",
        "data_head = data.head()\n",
        "\n",
        "data_info, data_head\n",
        "\n",
        "import statsmodels.api as sm\n",
        "\n",
        "# Assume 'salary_in_usd' is the target variable and 'remote_ratio' is a feature\n",
        "# You should replace these with your actual features and target variable\n",
        "X = data[['remote_ratio']]  # Define X with your feature columns\n",
        "y = data['salary_in_usd']   # Define y with your target variable column\n",
        "\n",
        "\n",
        "# Assume 'X' and 'y' are your features and target variable\n",
        "X = sm.add_constant(X)  # Add a constant to the model\n",
        "model = sm.OLS(y, X).fit()\n",
        "\n",
        "aic = model.aic\n",
        "bic = model.bic\n",
        "\n",
        "model_aic_bic = {\"Linear Regression-(AIC,BIC)\": (aic, bic)}\n",
        "print(model_aic_bic)"
      ]
    }
  ]
}